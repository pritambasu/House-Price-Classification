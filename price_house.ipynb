{
 "cells": [
  {
   "cell_type": "code",
   "execution_count": 89,
   "metadata": {},
   "outputs": [],
   "source": [
    "# -*- coding: utf-8 -*-\n",
    "\"\"\"\n",
    "Created on Mon Oct 29 00:19:32 2018\n",
    "\n",
    "@author: gujjwaal\n",
    "\"\"\"\n",
    "#Project Package\n",
    "import pandas as pd\n",
    "import numpy as np\n",
    "\n",
    "# Statistics\n",
    "from scipy import stats\n",
    "from scipy.stats import norm, skew\n",
    "from statistics import mode\n",
    "\n",
    "# Visualization\n",
    "import matplotlib.pyplot as plt \n",
    "import seaborn as sns\n",
    "\n",
    "# Machine learning\n",
    "from sklearn.preprocessing import LabelEncoder\n",
    "from sklearn.model_selection import train_test_split\n",
    "from sklearn.metrics import mean_squared_error\n",
    "from sklearn.pipeline import make_pipeline\n",
    "from sklearn.linear_model import LinearRegression\n",
    "from sklearn.preprocessing import RobustScaler\n",
    "from sklearn.linear_model import Lasso\n",
    "from sklearn.linear_model import Ridge\n",
    "\n",
    "\n"
   ]
  },
  {
   "cell_type": "code",
   "execution_count": 90,
   "metadata": {
    "scrolled": true
   },
   "outputs": [
    {
     "name": "stdout",
     "output_type": "stream",
     "text": [
      "(1459, 81)\n",
      "(1459, 80)\n"
     ]
    }
   ],
   "source": [
    "train = pd.read_csv(\"train.csv\")\n",
    "train = train.drop(train.index[len(list(train))-1])\n",
    "test = pd.read_csv(\"test.csv\")\n",
    "train[\"SalePrice\"] = np.log1p(train[\"SalePrice\"])\n",
    "\n",
    "print(train.shape)\n",
    "print(test.shape)\n",
    "\n",
    "#print(train.info())\n",
    "\n",
    "object_col = list(train.select_dtypes(include=['object']))\n",
    "\n"
   ]
  },
  {
   "cell_type": "code",
   "execution_count": 91,
   "metadata": {
    "scrolled": true
   },
   "outputs": [
    {
     "name": "stdout",
     "output_type": "stream",
     "text": [
      "all_data size is: (2918, 80)\n"
     ]
    }
   ],
   "source": [
    "all_data = pd.concat((train,test), sort=True)\n",
    "y_train = train.SalePrice.values\n",
    "all_data.drop(['SalePrice'], axis=1, inplace=True)\n",
    "print(\"all_data size is: {}\".format(all_data.shape))\n"
   ]
  },
  {
   "cell_type": "code",
   "execution_count": 92,
   "metadata": {},
   "outputs": [
    {
     "name": "stderr",
     "output_type": "stream",
     "text": [
      "C:\\Users\\gujjwaal\\Anaconda3\\lib\\site-packages\\ipykernel_launcher.py:10: RuntimeWarning: invalid value encountered in log1p\n",
      "  # Remove the CWD from sys.path while we load stuff.\n"
     ]
    }
   ],
   "source": [
    "# Applying a log(1+x) transformation to all skewed numeric features\n",
    "numeric_feats = all_data.dtypes[all_data.dtypes != \"object\"].index\n",
    "\n",
    "# Compute skewness\n",
    "skewed_feats = all_data[numeric_feats].apply(lambda x: skew(x.dropna()))\n",
    "skewed_feats = skewed_feats[skewed_feats > 0.75]\n",
    "skewed_feats = skewed_feats.index\n",
    "\n",
    "# Fix for skewness\n",
    "all_data[skewed_feats] = np.log1p(all_data[skewed_feats])"
   ]
  },
  {
   "cell_type": "code",
   "execution_count": 93,
   "metadata": {
    "scrolled": true
   },
   "outputs": [
    {
     "name": "stdout",
     "output_type": "stream",
     "text": [
      "Alley           2720\n",
      "BsmtCond          82\n",
      "BsmtExposure      82\n",
      "BsmtFinSF1         1\n",
      "BsmtFinSF2         1\n",
      "BsmtFinType1      79\n",
      "BsmtFinType2      80\n",
      "BsmtFullBath       2\n",
      "BsmtHalfBath       2\n",
      "BsmtQual          81\n",
      "BsmtUnfSF          1\n",
      "Electrical         1\n",
      "Exterior1st        1\n",
      "Exterior2nd        1\n",
      "Fence           2347\n",
      "FireplaceQu     1420\n",
      "Functional         2\n",
      "GarageArea         1\n",
      "GarageCars         1\n",
      "GarageCond       159\n",
      "GarageFinish     159\n",
      "GarageQual       159\n",
      "GarageType       157\n",
      "GarageYrBlt      159\n",
      "KitchenQual        1\n",
      "LotFrontage      486\n",
      "MSZoning           4\n",
      "MasVnrArea        23\n",
      "MasVnrType        24\n",
      "MiscFeature     2813\n",
      "PoolQC          2908\n",
      "SaleType           1\n",
      "TotalBsmtSF        1\n",
      "Utilities          2\n",
      "dtype: int64\n",
      "34\n"
     ]
    }
   ],
   "source": [
    "#Checking missing values\n",
    "\n",
    "null_columns = all_data.columns[all_data.isnull().any()]\n",
    "print(all_data[null_columns].isnull().sum())\n",
    "print(len(list(null_columns)))\n",
    "\n",
    "\n"
   ]
  },
  {
   "cell_type": "code",
   "execution_count": 94,
   "metadata": {
    "scrolled": true
   },
   "outputs": [
    {
     "name": "stdout",
     "output_type": "stream",
     "text": [
      "                     Id  MSSubClass  LotFrontage   LotArea  OverallQual  \\\n",
      "Id             1.000000    0.011243    -0.009037 -0.032990    -0.028464   \n",
      "MSSubClass     0.011243    1.000000    -0.386660 -0.139797     0.032631   \n",
      "LotFrontage   -0.009037   -0.386660     1.000000  0.425996     0.251895   \n",
      "LotArea       -0.032990   -0.139797     0.425996  1.000000     0.105820   \n",
      "OverallQual   -0.028464    0.032631     0.251895  0.105820     1.000000   \n",
      "OverallCond    0.013023   -0.059338    -0.059667 -0.005702    -0.091918   \n",
      "YearBuilt     -0.012838    0.027856     0.123512  0.014246     0.572321   \n",
      "YearRemodAdd  -0.022885    0.040632     0.089781  0.013931     0.550771   \n",
      "MasVnrArea    -0.047682    0.022860     0.191463  0.103957     0.412968   \n",
      "BsmtFinSF1    -0.005018   -0.069836     0.233735  0.214106     0.239667   \n",
      "BsmtFinSF2    -0.006278   -0.065636     0.050219  0.111225    -0.059135   \n",
      "BsmtUnfSF     -0.008232   -0.140750     0.133058 -0.002572     0.308154   \n",
      "TotalBsmtSF   -0.015817   -0.238511     0.392720  0.260914     0.537816   \n",
      "1stFlrSF       0.010558   -0.251762     0.457409  0.299473     0.476228   \n",
      "2ndFlrSF       0.007084    0.308024     0.078842  0.050782     0.295763   \n",
      "LowQualFinSF  -0.044393    0.046480     0.038626  0.004800    -0.030435   \n",
      "GrLivArea      0.009545    0.074830     0.402066  0.263047     0.593357   \n",
      "BsmtFullBath   0.001424    0.003533     0.101854  0.158334     0.111083   \n",
      "BsmtHalfBath  -0.020426   -0.002320    -0.007001  0.048089    -0.040163   \n",
      "FullBath       0.006428    0.131597     0.198138  0.125926     0.550757   \n",
      "HalfBath       0.008091    0.177385     0.052303  0.014058     0.273660   \n",
      "BedroomAbvGr   0.039245   -0.023524     0.262108  0.119535     0.101812   \n",
      "KitchenAbvGr   0.002730    0.281737    -0.005844 -0.017748    -0.183896   \n",
      "TotRmsAbvGrd   0.028233    0.040346     0.351513  0.189917     0.427620   \n",
      "Fireplaces    -0.019155   -0.045605     0.266159  0.271301     0.396844   \n",
      "GarageYrBlt   -0.000406    0.085108     0.070739 -0.024880     0.547763   \n",
      "GarageCars     0.015503   -0.040073     0.286999  0.155105     0.600838   \n",
      "GarageArea     0.017826   -0.098681     0.345050  0.180380     0.562037   \n",
      "WoodDeckSF    -0.030468   -0.012544     0.089361  0.171863     0.238933   \n",
      "OpenPorchSF   -0.000073   -0.006120     0.151673  0.084715     0.308854   \n",
      "EnclosedPorch  0.002512   -0.012019     0.011087 -0.018280    -0.113960   \n",
      "3SsnPorch     -0.046796   -0.043819     0.070186  0.020443     0.030365   \n",
      "ScreenPorch    0.005861   -0.026408     0.037333  0.042701     0.065503   \n",
      "PoolArea       0.057018    0.008286     0.206371  0.077686     0.065163   \n",
      "MiscVal       -0.006340   -0.007679     0.003508  0.038084    -0.031411   \n",
      "MoSold         0.021064   -0.013579     0.011337  0.001225     0.070810   \n",
      "YrSold         0.001656   -0.021458     0.006530 -0.014418    -0.027310   \n",
      "SalePrice     -0.017564   -0.073982     0.355737  0.257274     0.817243   \n",
      "\n",
      "               OverallCond  YearBuilt  YearRemodAdd  MasVnrArea  BsmtFinSF1  \\\n",
      "Id                0.013023  -0.012838     -0.022885   -0.047682   -0.005018   \n",
      "MSSubClass       -0.059338   0.027856      0.040632    0.022860   -0.069836   \n",
      "LotFrontage      -0.059667   0.123512      0.089781    0.191463    0.233735   \n",
      "LotArea          -0.005702   0.014246      0.013931    0.103957    0.214106   \n",
      "OverallQual      -0.091918   0.572321      0.550771    0.412968    0.239667   \n",
      "OverallCond       1.000000  -0.375975      0.073976   -0.129091   -0.046236   \n",
      "YearBuilt        -0.375975   1.000000      0.592932    0.316638    0.249505   \n",
      "YearRemodAdd      0.073976   0.592932      1.000000    0.181547    0.128485   \n",
      "MasVnrArea       -0.129091   0.316638      0.181547    1.000000    0.265336   \n",
      "BsmtFinSF1       -0.046236   0.249505      0.128485    0.265336    1.000000   \n",
      "BsmtFinSF2        0.040308  -0.049130     -0.067938   -0.071969   -0.050117   \n",
      "BsmtUnfSF        -0.136780   0.149025      0.181028    0.115200   -0.495262   \n",
      "TotalBsmtSF      -0.171018   0.391444      0.290940    0.365468    0.522423   \n",
      "1stFlrSF         -0.144223   0.281991      0.240463    0.345215    0.445863   \n",
      "2ndFlrSF          0.028595   0.010419      0.140938    0.172557   -0.137181   \n",
      "LowQualFinSF      0.025527  -0.183795     -0.062501   -0.069016   -0.064502   \n",
      "GrLivArea        -0.080041   0.199196      0.288263    0.389815    0.208265   \n",
      "BsmtFullBath     -0.054742   0.187582      0.119065    0.087003    0.649367   \n",
      "BsmtHalfBath      0.117892  -0.038181     -0.012475    0.027172    0.067421   \n",
      "FullBath         -0.194407   0.468431      0.439683    0.276112    0.058550   \n",
      "HalfBath         -0.061125   0.242873      0.184155    0.199804    0.004257   \n",
      "BedroomAbvGr      0.012625  -0.070595     -0.039838    0.100623   -0.107435   \n",
      "KitchenAbvGr     -0.086951  -0.174819     -0.149753   -0.037320   -0.081007   \n",
      "TotRmsAbvGrd     -0.057841   0.095684      0.192350    0.279779    0.044322   \n",
      "Fireplaces       -0.023981   0.147780      0.112957    0.248601    0.260039   \n",
      "GarageYrBlt      -0.324215   0.825678      0.642225    0.254079    0.153489   \n",
      "GarageCars       -0.185565   0.537971      0.420295    0.367037    0.224141   \n",
      "GarageArea       -0.151575   0.478973      0.371783    0.373641    0.296972   \n",
      "WoodDeckSF       -0.003138   0.224869      0.205391    0.161484    0.204351   \n",
      "OpenPorchSF      -0.032692   0.188724      0.226575    0.125306    0.111764   \n",
      "EnclosedPorch     0.070457  -0.387313     -0.194173   -0.109821   -0.102305   \n",
      "3SsnPorch         0.025535   0.031346      0.045231    0.019050    0.026451   \n",
      "ScreenPorch       0.054037  -0.050362     -0.036595    0.054307    0.062380   \n",
      "PoolArea         -0.001967   0.004945      0.005792    0.011875    0.140492   \n",
      "MiscVal           0.068803  -0.034390     -0.010338   -0.029727    0.003572   \n",
      "MoSold           -0.003480   0.012390      0.021428   -0.005766   -0.015726   \n",
      "YrSold            0.043730  -0.013555      0.036261   -0.009830    0.014357   \n",
      "SalePrice        -0.036970   0.586628      0.565973    0.431164    0.372039   \n",
      "\n",
      "                 ...      WoodDeckSF  OpenPorchSF  EnclosedPorch  3SsnPorch  \\\n",
      "Id               ...       -0.030468    -0.000073       0.002512  -0.046796   \n",
      "MSSubClass       ...       -0.012544    -0.006120      -0.012019  -0.043819   \n",
      "LotFrontage      ...        0.089361     0.151673       0.011087   0.070186   \n",
      "LotArea          ...        0.171863     0.084715      -0.018280   0.020443   \n",
      "OverallQual      ...        0.238933     0.308854      -0.113960   0.030365   \n",
      "OverallCond      ...       -0.003138    -0.032692       0.070457   0.025535   \n",
      "YearBuilt        ...        0.224869     0.188724      -0.387313   0.031346   \n",
      "YearRemodAdd     ...        0.205391     0.226575      -0.194173   0.045231   \n",
      "MasVnrArea       ...        0.161484     0.125306      -0.109821   0.019050   \n",
      "BsmtFinSF1       ...        0.204351     0.111764      -0.102305   0.026451   \n",
      "BsmtFinSF2       ...        0.067765     0.003169       0.036475  -0.030017   \n",
      "BsmtUnfSF        ...       -0.005457     0.129086      -0.002605   0.020743   \n",
      "TotalBsmtSF      ...        0.231885     0.247384      -0.095577   0.037356   \n",
      "1stFlrSF         ...        0.235530     0.211669      -0.065282   0.056109   \n",
      "2ndFlrSF         ...        0.092971     0.207809       0.062380  -0.024262   \n",
      "LowQualFinSF     ...       -0.025511     0.018284       0.061055  -0.004305   \n",
      "GrLivArea        ...        0.248217     0.330089       0.009412   0.020749   \n",
      "BsmtFullBath     ...        0.174967     0.067575      -0.050126  -0.000172   \n",
      "BsmtHalfBath     ...        0.040046    -0.025262      -0.008615   0.035095   \n",
      "FullBath         ...        0.188187     0.259839      -0.114928   0.035424   \n",
      "HalfBath         ...        0.108790     0.199531      -0.095068  -0.004877   \n",
      "BedroomAbvGr     ...        0.047611     0.093512       0.041942  -0.024383   \n",
      "KitchenAbvGr     ...       -0.090258    -0.070040       0.037263  -0.024618   \n",
      "TotRmsAbvGrd     ...        0.166534     0.234031       0.004377  -0.006612   \n",
      "Fireplaces       ...        0.200392     0.169277      -0.024678   0.011307   \n",
      "GarageYrBlt      ...        0.224402     0.228569      -0.297143   0.023508   \n",
      "GarageCars       ...        0.225938     0.213927      -0.151749   0.035696   \n",
      "GarageArea       ...        0.224799     0.241405      -0.121742   0.035101   \n",
      "WoodDeckSF       ...        1.000000     0.058872      -0.126204  -0.032837   \n",
      "OpenPorchSF      ...        0.058872     1.000000      -0.092994  -0.005812   \n",
      "EnclosedPorch    ...       -0.126204    -0.092994       1.000000  -0.037336   \n",
      "3SsnPorch        ...       -0.032837    -0.005812      -0.037336   1.000000   \n",
      "ScreenPorch      ...       -0.072454     0.073650      -0.082332  -0.031291   \n",
      "PoolArea         ...        0.073357     0.060783       0.054188  -0.007997   \n",
      "MiscVal          ...       -0.009598    -0.018562       0.018340   0.000347   \n",
      "MoSold           ...        0.020954     0.071290      -0.028918   0.029465   \n",
      "YrSold           ...        0.022741    -0.057872      -0.009699   0.018721   \n",
      "SalePrice        ...        0.334408     0.320987      -0.148972   0.054933   \n",
      "\n",
      "               ScreenPorch  PoolArea   MiscVal    MoSold    YrSold  SalePrice  \n",
      "Id                0.005861  0.057018 -0.006340  0.021064  0.001656  -0.017564  \n",
      "MSSubClass       -0.026408  0.008286 -0.007679 -0.013579 -0.021458  -0.073982  \n",
      "LotFrontage       0.037333  0.206371  0.003508  0.011337  0.006530   0.355737  \n",
      "LotArea           0.042701  0.077686  0.038084  0.001225 -0.014418   0.257274  \n",
      "OverallQual       0.065503  0.065163 -0.031411  0.070810 -0.027310   0.817243  \n",
      "OverallCond       0.054037 -0.001967  0.068803 -0.003480  0.043730  -0.036970  \n",
      "YearBuilt        -0.050362  0.004945 -0.034390  0.012390 -0.013555   0.586628  \n",
      "YearRemodAdd     -0.036595  0.005792 -0.010338  0.021428  0.036261   0.565973  \n",
      "MasVnrArea        0.054307  0.011875 -0.029727 -0.005766 -0.009830   0.431164  \n",
      "BsmtFinSF1        0.062380  0.140492  0.003572 -0.015726  0.014357   0.372039  \n",
      "BsmtFinSF2        0.090276  0.041697  0.004923 -0.015235  0.031892   0.004906  \n",
      "BsmtUnfSF        -0.011867 -0.035106 -0.023854  0.034867 -0.041105   0.222070  \n",
      "TotalBsmtSF       0.086100  0.126042 -0.018502  0.013167 -0.014748   0.612286  \n",
      "1stFlrSF          0.089166  0.131528 -0.021093  0.031376 -0.013638   0.596997  \n",
      "2ndFlrSF          0.036767  0.081608  0.016292  0.035303 -0.029587   0.319172  \n",
      "LowQualFinSF      0.027320  0.062152 -0.003800 -0.022184 -0.028855  -0.037934  \n",
      "GrLivArea         0.098696  0.170345 -0.002345  0.050362 -0.037283   0.700997  \n",
      "BsmtFullBath      0.025702  0.067593 -0.023102 -0.025434  0.067584   0.236500  \n",
      "BsmtHalfBath      0.033030  0.020014 -0.007381  0.032854 -0.046390  -0.005088  \n",
      "FullBath         -0.010474  0.049652 -0.014245  0.055949 -0.020161   0.594724  \n",
      "HalfBath          0.069315  0.022451  0.001365 -0.008954 -0.011028   0.313845  \n",
      "BedroomAbvGr      0.040528  0.070815  0.007856  0.046688 -0.036898   0.208836  \n",
      "KitchenAbvGr     -0.051317 -0.014535  0.062329  0.026572  0.031826  -0.147503  \n",
      "TotRmsAbvGrd      0.057096  0.083824  0.024825  0.036992 -0.035094   0.534367  \n",
      "Fireplaces        0.183946  0.095114  0.001445  0.046412 -0.024472   0.489380  \n",
      "GarageYrBlt      -0.074610 -0.014523 -0.032446  0.005299 -0.000739   0.541223  \n",
      "GarageCars        0.053839  0.020893 -0.043158  0.040453 -0.038514   0.681166  \n",
      "GarageArea        0.051240  0.061056 -0.027390  0.027988 -0.027489   0.650882  \n",
      "WoodDeckSF       -0.072454  0.073357 -0.009598  0.020954  0.022741   0.334408  \n",
      "OpenPorchSF       0.073650  0.060783 -0.018562  0.071290 -0.057872   0.320987  \n",
      "EnclosedPorch    -0.082332  0.054188  0.018340 -0.028918 -0.009699  -0.148972  \n",
      "3SsnPorch        -0.031291 -0.007997  0.000347  0.029465  0.018721   0.054933  \n",
      "ScreenPorch       1.000000  0.051830  0.032403  0.023711  0.008148   0.120877  \n",
      "PoolArea          0.051830  1.000000  0.029665 -0.033742 -0.059663   0.069819  \n",
      "MiscVal           0.032403  0.029665  1.000000 -0.006502  0.004961  -0.019999  \n",
      "MoSold            0.023711 -0.033742 -0.006502  1.000000 -0.145689   0.057363  \n",
      "YrSold            0.008148 -0.059663  0.004961 -0.145689  1.000000  -0.037503  \n",
      "SalePrice         0.120877  0.069819 -0.019999  0.057363 -0.037503   1.000000  \n",
      "\n",
      "[38 rows x 38 columns]\n"
     ]
    },
    {
     "data": {
      "image/png": "[encoded data removed]",
      "text/plain": [
       "<Figure size 1008x576 with 2 Axes>"
      ]
     },
     "metadata": {},
     "output_type": "display_data"
    }
   ],
   "source": [
    "corr = train.corr()\n",
    "print(corr)\n",
    "plt.figure(figsize=(14, 8))\n",
    "plt.title('Overall Correlation of House Prices', fontsize=18)\n",
    "sns.heatmap(corr, annot=False,cmap='RdYlGn', linewidths=0.2, annot_kws={'size':20})\n",
    "plt.show()\n"
   ]
  },
  {
   "cell_type": "code",
   "execution_count": 95,
   "metadata": {},
   "outputs": [],
   "source": [
    "# Columns where missing values can be replaced with None\n",
    "object1 = ['PoolQC', 'MiscFeature', 'Alley', 'Fence', 'FireplaceQu', 'GarageType', 'GarageFinish', 'GarageQual', 'GarageCond', 'BsmtQual', 'BsmtCond', 'BsmtExposure', 'BsmtFinType1', 'BsmtFinType2', 'MasVnrType', 'MSSubClass']\n",
    "for col in object1:\n",
    "    all_data[col] = all_data[col].fillna('None')\n",
    "# Columns where missing values can be replaced with 0\n",
    "object2 = ['GarageYrBlt', 'GarageArea', 'GarageCars', 'BsmtFinSF1', 'BsmtFinSF2', 'BsmtUnfSF','TotalBsmtSF', 'BsmtFullBath', 'BsmtHalfBath', 'MasVnrArea']\n",
    "for col1 in object2:\n",
    "    all_data[col1] = all_data[col1].fillna(0)\n",
    "\n",
    "# Columns where missing values can be replaced with the mode\n",
    "object3 = ['MSZoning', 'Electrical', 'KitchenQual', 'Exterior1st', 'Exterior2nd', 'SaleType', 'Functional', 'Utilities']\n",
    "for col2 in object3:\n",
    "    all_data[col2] = all_data[col2].fillna(all_data[col2].mode()[0])\n",
    "# Imputing LotFrontage with median \n",
    "all_data['LotFrontage'] = all_data['LotFrontage'].fillna(all_data['LotFrontage'].median())\n",
    "\n"
   ]
  },
  {
   "cell_type": "code",
   "execution_count": 96,
   "metadata": {},
   "outputs": [
    {
     "name": "stdout",
     "output_type": "stream",
     "text": [
      "Series([], dtype: float64)\n"
     ]
    }
   ],
   "source": [
    "null_col = all_data.columns[all_data.isnull().any()]\n",
    "print(all_data[null_col].isnull().sum())\n"
   ]
  },
  {
   "cell_type": "code",
   "execution_count": 97,
   "metadata": {},
   "outputs": [],
   "source": [
    "all_data = all_data.drop(['Utilities', 'Condition2', 'RoofMatl', 'Heating', 'PoolQC'], axis=1)"
   ]
  },
  {
   "cell_type": "code",
   "execution_count": 98,
   "metadata": {},
   "outputs": [
    {
     "ename": "KeyError",
     "evalue": "'Utilities'",
     "output_type": "error",
     "traceback": [
      "\u001b[1;31m---------------------------------------------------------------------------\u001b[0m",
      "\u001b[1;31mKeyError\u001b[0m                                  Traceback (most recent call last)",
      "\u001b[1;32m~\\Anaconda3\\lib\\site-packages\\pandas\\core\\indexes\\base.py\u001b[0m in \u001b[0;36mget_loc\u001b[1;34m(self, key, method, tolerance)\u001b[0m\n\u001b[0;32m   3062\u001b[0m             \u001b[1;32mtry\u001b[0m\u001b[1;33m:\u001b[0m\u001b[1;33m\u001b[0m\u001b[0m\n\u001b[1;32m-> 3063\u001b[1;33m                 \u001b[1;32mreturn\u001b[0m \u001b[0mself\u001b[0m\u001b[1;33m.\u001b[0m\u001b[0m_engine\u001b[0m\u001b[1;33m.\u001b[0m\u001b[0mget_loc\u001b[0m\u001b[1;33m(\u001b[0m\u001b[0mkey\u001b[0m\u001b[1;33m)\u001b[0m\u001b[1;33m\u001b[0m\u001b[0m\n\u001b[0m\u001b[0;32m   3064\u001b[0m             \u001b[1;32mexcept\u001b[0m \u001b[0mKeyError\u001b[0m\u001b[1;33m:\u001b[0m\u001b[1;33m\u001b[0m\u001b[0m\n",
      "\u001b[1;32mpandas\\_libs\\index.pyx\u001b[0m in \u001b[0;36mpandas._libs.index.IndexEngine.get_loc\u001b[1;34m()\u001b[0m\n",
      "\u001b[1;32mpandas\\_libs\\index.pyx\u001b[0m in \u001b[0;36mpandas._libs.index.IndexEngine.get_loc\u001b[1;34m()\u001b[0m\n",
      "\u001b[1;32mpandas\\_libs\\hashtable_class_helper.pxi\u001b[0m in \u001b[0;36mpandas._libs.hashtable.PyObjectHashTable.get_item\u001b[1;34m()\u001b[0m\n",
      "\u001b[1;32mpandas\\_libs\\hashtable_class_helper.pxi\u001b[0m in \u001b[0;36mpandas._libs.hashtable.PyObjectHashTable.get_item\u001b[1;34m()\u001b[0m\n",
      "\u001b[1;31mKeyError\u001b[0m: 'Utilities'",
      "\nDuring handling of the above exception, another exception occurred:\n",
      "\u001b[1;31mKeyError\u001b[0m                                  Traceback (most recent call last)",
      "\u001b[1;32m<ipython-input-98-7ede4d53a885>\u001b[0m in \u001b[0;36m<module>\u001b[1;34m()\u001b[0m\n\u001b[0;32m      9\u001b[0m \u001b[1;32mfor\u001b[0m \u001b[0mc\u001b[0m \u001b[1;32min\u001b[0m \u001b[0mobject_col\u001b[0m\u001b[1;33m:\u001b[0m\u001b[1;33m\u001b[0m\u001b[0m\n\u001b[0;32m     10\u001b[0m     \u001b[0mle\u001b[0m \u001b[1;33m=\u001b[0m \u001b[0mLabelEncoder\u001b[0m\u001b[1;33m(\u001b[0m\u001b[1;33m)\u001b[0m\u001b[1;33m\u001b[0m\u001b[0m\n\u001b[1;32m---> 11\u001b[1;33m     \u001b[0mle\u001b[0m\u001b[1;33m.\u001b[0m\u001b[0mfit\u001b[0m\u001b[1;33m(\u001b[0m\u001b[0mlist\u001b[0m\u001b[1;33m(\u001b[0m\u001b[0mall_data\u001b[0m\u001b[1;33m[\u001b[0m\u001b[0mc\u001b[0m\u001b[1;33m]\u001b[0m\u001b[1;33m.\u001b[0m\u001b[0mvalues\u001b[0m\u001b[1;33m)\u001b[0m\u001b[1;33m)\u001b[0m\u001b[1;33m\u001b[0m\u001b[0m\n\u001b[0m\u001b[0;32m     12\u001b[0m     \u001b[0mall_data\u001b[0m\u001b[1;33m[\u001b[0m\u001b[0mc\u001b[0m\u001b[1;33m]\u001b[0m \u001b[1;33m=\u001b[0m \u001b[0mle\u001b[0m\u001b[1;33m.\u001b[0m\u001b[0mtransform\u001b[0m\u001b[1;33m(\u001b[0m\u001b[0mlist\u001b[0m\u001b[1;33m(\u001b[0m\u001b[0mall_data\u001b[0m\u001b[1;33m[\u001b[0m\u001b[0mc\u001b[0m\u001b[1;33m]\u001b[0m\u001b[1;33m.\u001b[0m\u001b[0mvalues\u001b[0m\u001b[1;33m)\u001b[0m\u001b[1;33m)\u001b[0m\u001b[1;33m\u001b[0m\u001b[0m\n",
      "\u001b[1;32m~\\Anaconda3\\lib\\site-packages\\pandas\\core\\frame.py\u001b[0m in \u001b[0;36m__getitem__\u001b[1;34m(self, key)\u001b[0m\n\u001b[0;32m   2683\u001b[0m             \u001b[1;32mreturn\u001b[0m \u001b[0mself\u001b[0m\u001b[1;33m.\u001b[0m\u001b[0m_getitem_multilevel\u001b[0m\u001b[1;33m(\u001b[0m\u001b[0mkey\u001b[0m\u001b[1;33m)\u001b[0m\u001b[1;33m\u001b[0m\u001b[0m\n\u001b[0;32m   2684\u001b[0m         \u001b[1;32melse\u001b[0m\u001b[1;33m:\u001b[0m\u001b[1;33m\u001b[0m\u001b[0m\n\u001b[1;32m-> 2685\u001b[1;33m             \u001b[1;32mreturn\u001b[0m \u001b[0mself\u001b[0m\u001b[1;33m.\u001b[0m\u001b[0m_getitem_column\u001b[0m\u001b[1;33m(\u001b[0m\u001b[0mkey\u001b[0m\u001b[1;33m)\u001b[0m\u001b[1;33m\u001b[0m\u001b[0m\n\u001b[0m\u001b[0;32m   2686\u001b[0m \u001b[1;33m\u001b[0m\u001b[0m\n\u001b[0;32m   2687\u001b[0m     \u001b[1;32mdef\u001b[0m \u001b[0m_getitem_column\u001b[0m\u001b[1;33m(\u001b[0m\u001b[0mself\u001b[0m\u001b[1;33m,\u001b[0m \u001b[0mkey\u001b[0m\u001b[1;33m)\u001b[0m\u001b[1;33m:\u001b[0m\u001b[1;33m\u001b[0m\u001b[0m\n",
      "\u001b[1;32m~\\Anaconda3\\lib\\site-packages\\pandas\\core\\frame.py\u001b[0m in \u001b[0;36m_getitem_column\u001b[1;34m(self, key)\u001b[0m\n\u001b[0;32m   2690\u001b[0m         \u001b[1;31m# get column\u001b[0m\u001b[1;33m\u001b[0m\u001b[1;33m\u001b[0m\u001b[0m\n\u001b[0;32m   2691\u001b[0m         \u001b[1;32mif\u001b[0m \u001b[0mself\u001b[0m\u001b[1;33m.\u001b[0m\u001b[0mcolumns\u001b[0m\u001b[1;33m.\u001b[0m\u001b[0mis_unique\u001b[0m\u001b[1;33m:\u001b[0m\u001b[1;33m\u001b[0m\u001b[0m\n\u001b[1;32m-> 2692\u001b[1;33m             \u001b[1;32mreturn\u001b[0m \u001b[0mself\u001b[0m\u001b[1;33m.\u001b[0m\u001b[0m_get_item_cache\u001b[0m\u001b[1;33m(\u001b[0m\u001b[0mkey\u001b[0m\u001b[1;33m)\u001b[0m\u001b[1;33m\u001b[0m\u001b[0m\n\u001b[0m\u001b[0;32m   2693\u001b[0m \u001b[1;33m\u001b[0m\u001b[0m\n\u001b[0;32m   2694\u001b[0m         \u001b[1;31m# duplicate columns & possible reduce dimensionality\u001b[0m\u001b[1;33m\u001b[0m\u001b[1;33m\u001b[0m\u001b[0m\n",
      "\u001b[1;32m~\\Anaconda3\\lib\\site-packages\\pandas\\core\\generic.py\u001b[0m in \u001b[0;36m_get_item_cache\u001b[1;34m(self, item)\u001b[0m\n\u001b[0;32m   2484\u001b[0m         \u001b[0mres\u001b[0m \u001b[1;33m=\u001b[0m \u001b[0mcache\u001b[0m\u001b[1;33m.\u001b[0m\u001b[0mget\u001b[0m\u001b[1;33m(\u001b[0m\u001b[0mitem\u001b[0m\u001b[1;33m)\u001b[0m\u001b[1;33m\u001b[0m\u001b[0m\n\u001b[0;32m   2485\u001b[0m         \u001b[1;32mif\u001b[0m \u001b[0mres\u001b[0m \u001b[1;32mis\u001b[0m \u001b[1;32mNone\u001b[0m\u001b[1;33m:\u001b[0m\u001b[1;33m\u001b[0m\u001b[0m\n\u001b[1;32m-> 2486\u001b[1;33m             \u001b[0mvalues\u001b[0m \u001b[1;33m=\u001b[0m \u001b[0mself\u001b[0m\u001b[1;33m.\u001b[0m\u001b[0m_data\u001b[0m\u001b[1;33m.\u001b[0m\u001b[0mget\u001b[0m\u001b[1;33m(\u001b[0m\u001b[0mitem\u001b[0m\u001b[1;33m)\u001b[0m\u001b[1;33m\u001b[0m\u001b[0m\n\u001b[0m\u001b[0;32m   2487\u001b[0m             \u001b[0mres\u001b[0m \u001b[1;33m=\u001b[0m \u001b[0mself\u001b[0m\u001b[1;33m.\u001b[0m\u001b[0m_box_item_values\u001b[0m\u001b[1;33m(\u001b[0m\u001b[0mitem\u001b[0m\u001b[1;33m,\u001b[0m \u001b[0mvalues\u001b[0m\u001b[1;33m)\u001b[0m\u001b[1;33m\u001b[0m\u001b[0m\n\u001b[0;32m   2488\u001b[0m             \u001b[0mcache\u001b[0m\u001b[1;33m[\u001b[0m\u001b[0mitem\u001b[0m\u001b[1;33m]\u001b[0m \u001b[1;33m=\u001b[0m \u001b[0mres\u001b[0m\u001b[1;33m\u001b[0m\u001b[0m\n",
      "\u001b[1;32m~\\Anaconda3\\lib\\site-packages\\pandas\\core\\internals.py\u001b[0m in \u001b[0;36mget\u001b[1;34m(self, item, fastpath)\u001b[0m\n\u001b[0;32m   4113\u001b[0m \u001b[1;33m\u001b[0m\u001b[0m\n\u001b[0;32m   4114\u001b[0m             \u001b[1;32mif\u001b[0m \u001b[1;32mnot\u001b[0m \u001b[0misna\u001b[0m\u001b[1;33m(\u001b[0m\u001b[0mitem\u001b[0m\u001b[1;33m)\u001b[0m\u001b[1;33m:\u001b[0m\u001b[1;33m\u001b[0m\u001b[0m\n\u001b[1;32m-> 4115\u001b[1;33m                 \u001b[0mloc\u001b[0m \u001b[1;33m=\u001b[0m \u001b[0mself\u001b[0m\u001b[1;33m.\u001b[0m\u001b[0mitems\u001b[0m\u001b[1;33m.\u001b[0m\u001b[0mget_loc\u001b[0m\u001b[1;33m(\u001b[0m\u001b[0mitem\u001b[0m\u001b[1;33m)\u001b[0m\u001b[1;33m\u001b[0m\u001b[0m\n\u001b[0m\u001b[0;32m   4116\u001b[0m             \u001b[1;32melse\u001b[0m\u001b[1;33m:\u001b[0m\u001b[1;33m\u001b[0m\u001b[0m\n\u001b[0;32m   4117\u001b[0m                 \u001b[0mindexer\u001b[0m \u001b[1;33m=\u001b[0m \u001b[0mnp\u001b[0m\u001b[1;33m.\u001b[0m\u001b[0marange\u001b[0m\u001b[1;33m(\u001b[0m\u001b[0mlen\u001b[0m\u001b[1;33m(\u001b[0m\u001b[0mself\u001b[0m\u001b[1;33m.\u001b[0m\u001b[0mitems\u001b[0m\u001b[1;33m)\u001b[0m\u001b[1;33m)\u001b[0m\u001b[1;33m[\u001b[0m\u001b[0misna\u001b[0m\u001b[1;33m(\u001b[0m\u001b[0mself\u001b[0m\u001b[1;33m.\u001b[0m\u001b[0mitems\u001b[0m\u001b[1;33m)\u001b[0m\u001b[1;33m]\u001b[0m\u001b[1;33m\u001b[0m\u001b[0m\n",
      "\u001b[1;32m~\\Anaconda3\\lib\\site-packages\\pandas\\core\\indexes\\base.py\u001b[0m in \u001b[0;36mget_loc\u001b[1;34m(self, key, method, tolerance)\u001b[0m\n\u001b[0;32m   3063\u001b[0m                 \u001b[1;32mreturn\u001b[0m \u001b[0mself\u001b[0m\u001b[1;33m.\u001b[0m\u001b[0m_engine\u001b[0m\u001b[1;33m.\u001b[0m\u001b[0mget_loc\u001b[0m\u001b[1;33m(\u001b[0m\u001b[0mkey\u001b[0m\u001b[1;33m)\u001b[0m\u001b[1;33m\u001b[0m\u001b[0m\n\u001b[0;32m   3064\u001b[0m             \u001b[1;32mexcept\u001b[0m \u001b[0mKeyError\u001b[0m\u001b[1;33m:\u001b[0m\u001b[1;33m\u001b[0m\u001b[0m\n\u001b[1;32m-> 3065\u001b[1;33m                 \u001b[1;32mreturn\u001b[0m \u001b[0mself\u001b[0m\u001b[1;33m.\u001b[0m\u001b[0m_engine\u001b[0m\u001b[1;33m.\u001b[0m\u001b[0mget_loc\u001b[0m\u001b[1;33m(\u001b[0m\u001b[0mself\u001b[0m\u001b[1;33m.\u001b[0m\u001b[0m_maybe_cast_indexer\u001b[0m\u001b[1;33m(\u001b[0m\u001b[0mkey\u001b[0m\u001b[1;33m)\u001b[0m\u001b[1;33m)\u001b[0m\u001b[1;33m\u001b[0m\u001b[0m\n\u001b[0m\u001b[0;32m   3066\u001b[0m \u001b[1;33m\u001b[0m\u001b[0m\n\u001b[0;32m   3067\u001b[0m         \u001b[0mindexer\u001b[0m \u001b[1;33m=\u001b[0m \u001b[0mself\u001b[0m\u001b[1;33m.\u001b[0m\u001b[0mget_indexer\u001b[0m\u001b[1;33m(\u001b[0m\u001b[1;33m[\u001b[0m\u001b[0mkey\u001b[0m\u001b[1;33m]\u001b[0m\u001b[1;33m,\u001b[0m \u001b[0mmethod\u001b[0m\u001b[1;33m=\u001b[0m\u001b[0mmethod\u001b[0m\u001b[1;33m,\u001b[0m \u001b[0mtolerance\u001b[0m\u001b[1;33m=\u001b[0m\u001b[0mtolerance\u001b[0m\u001b[1;33m)\u001b[0m\u001b[1;33m\u001b[0m\u001b[0m\n",
      "\u001b[1;32mpandas\\_libs\\index.pyx\u001b[0m in \u001b[0;36mpandas._libs.index.IndexEngine.get_loc\u001b[1;34m()\u001b[0m\n",
      "\u001b[1;32mpandas\\_libs\\index.pyx\u001b[0m in \u001b[0;36mpandas._libs.index.IndexEngine.get_loc\u001b[1;34m()\u001b[0m\n",
      "\u001b[1;32mpandas\\_libs\\hashtable_class_helper.pxi\u001b[0m in \u001b[0;36mpandas._libs.hashtable.PyObjectHashTable.get_item\u001b[1;34m()\u001b[0m\n",
      "\u001b[1;32mpandas\\_libs\\hashtable_class_helper.pxi\u001b[0m in \u001b[0;36mpandas._libs.hashtable.PyObjectHashTable.get_item\u001b[1;34m()\u001b[0m\n",
      "\u001b[1;31mKeyError\u001b[0m: 'Utilities'"
     ]
    }
   ],
   "source": [
    "# columns to get label encoded\n",
    "cols = ('FireplaceQu', 'BsmtQual', 'BsmtCond', 'GarageQual', 'GarageCond', \n",
    "        'ExterQual', 'ExterCond','HeatingQC', 'KitchenQual', 'BsmtFinType1', \n",
    "        'BsmtFinType2', 'Functional', 'Fence', 'BsmtExposure', 'GarageFinish', 'LandSlope',\n",
    "        'LotShape', 'PavedDrive', 'Alley', 'CentralAir', 'MSSubClass', 'OverallCond', \n",
    "        'YrSold', 'MoSold')\n",
    "\n",
    "\n",
    "for c in object_col:\n",
    "    le = LabelEncoder() \n",
    "    le.fit(list(all_data[c].values)) \n",
    "    all_data[c] = le.transform(list(all_data[c].values))"
   ]
  },
  {
   "cell_type": "code",
   "execution_count": 29,
   "metadata": {},
   "outputs": [],
   "source": [
    "#all_data2 = all_data.copy()"
   ]
  },
  {
   "cell_type": "code",
   "execution_count": 30,
   "metadata": {},
   "outputs": [],
   "source": [
    "#all_data2 = all_data2.drop(['Id','MSSubClass','LotFrontage','LotArea','OverallCond', 'MasVnrArea','BsmtFinSF1','BsmtFinSF2','BsmtUnfSF','2ndFlrSF','LowQualFinSF','BsmtFullBath','BsmtHalfBath','HalfBath','BedroomAbvGr','KitchenAbvGr','Fireplaces','GarageYrBlt' ,'GarageCars','GarageArea','WoodDeckSF','OpenPorchSF','EnclosedPorch','3SsnPorch','ScreenPorch','PoolArea','MiscVal','MoSold' ,'YrSold'], axis =1)"
   ]
  },
  {
   "cell_type": "code",
   "execution_count": 31,
   "metadata": {},
   "outputs": [],
   "source": [
    "#all_data2 = pd.get_dummies(all_data2)\n"
   ]
  },
  {
   "cell_type": "code",
   "execution_count": 32,
   "metadata": {},
   "outputs": [],
   "source": [
    "x_train = all_data[:train.shape[0]]\n",
    "x_test = all_data[test.shape[0]:]\n"
   ]
  },
  {
   "cell_type": "code",
   "execution_count": 47,
   "metadata": {},
   "outputs": [],
   "source": [
    "#model_lasso = make_pipeline(RobustScaler(), Lasso(alpha = 5))\n",
    "model_lasso = make_pipeline(RobustScaler(), Lasso(alpha = 0.0005))\n",
    "model_lasso.fit(x_train,y_train)\n",
    "y_pred = model_lasso.predict(x_test)\n",
    "y_pred = np.expm1(y_pred)"
   ]
  },
  {
   "cell_type": "code",
   "execution_count": 48,
   "metadata": {},
   "outputs": [],
   "source": [
    "sample = pd.read_csv(\"sample_submission.csv\")\n",
    "sample = sample.drop(['Id'], axis=1)\n",
    "#print(sample.shape)\n",
    "y_test = sample.values\n"
   ]
  },
  {
   "cell_type": "code",
   "execution_count": 56,
   "metadata": {},
   "outputs": [],
   "source": [
    "import math\n",
    "def rmsle(y, y_pred):\n",
    "    assert len(y) == len(y_pred)\n",
    "    terms_to_sum = [(math.log(y_pred[i] + 1) - math.log(y[i] + 1)) ** 2.0 for i,pred in enumerate(y_pred)]\n",
    "    return (sum(terms_to_sum) * (1.0/len(y))) ** 0.5"
   ]
  },
  {
   "cell_type": "code",
   "execution_count": 57,
   "metadata": {
    "scrolled": true
   },
   "outputs": [
    {
     "name": "stdout",
     "output_type": "stream",
     "text": [
      "5135232089.19823\n",
      "0.3760050717006089\n"
     ]
    }
   ],
   "source": [
    "print(mean_squared_error(y_pred,y_test))\n",
    "print(rmsle(y_test,y_pred))"
   ]
  },
  {
   "cell_type": "code",
   "execution_count": 52,
   "metadata": {},
   "outputs": [],
   "source": [
    "from sklearn.ensemble import GradientBoostingRegressor\n"
   ]
  },
  {
   "cell_type": "code",
   "execution_count": 53,
   "metadata": {},
   "outputs": [],
   "source": [
    "model_gbr = GradientBoostingRegressor(n_estimators=1200,learning_rate=0.05,max_depth=4,max_features='sqrt',min_samples_leaf=15,min_samples_split=10,loss='huber',random_state=5)\n",
    "model_gbr.fit(x_train,y_train)\n",
    "y_pred1 = model_gbr.predict(x_test)"
   ]
  },
  {
   "cell_type": "code",
   "execution_count": 54,
   "metadata": {},
   "outputs": [
    {
     "name": "stdout",
     "output_type": "stream",
     "text": [
      "5295687037.935564\n",
      "0.37715743279959807\n"
     ]
    }
   ],
   "source": [
    "y_pred1= np.expm1(y_pred1)\n",
    "print(mean_squared_error(y_pred1,y_test))\n",
    "print(rmsle(y_test,y_pred1))"
   ]
  },
  {
   "cell_type": "code",
   "execution_count": 41,
   "metadata": {},
   "outputs": [],
   "source": [
    "from catboost import CatBoostRegressor"
   ]
  },
  {
   "cell_type": "code",
   "execution_count": 55,
   "metadata": {},
   "outputs": [
    {
     "name": "stdout",
     "output_type": "stream",
     "text": [
      "0:\tlearn: 10.8516380\ttotal: 10.9ms\tremaining: 21.8s\n",
      "200:\tlearn: 0.1600247\ttotal: 2.14s\tremaining: 19.2s\n",
      "400:\tlearn: 0.1492990\ttotal: 4.61s\tremaining: 18.4s\n",
      "600:\tlearn: 0.1449654\ttotal: 6.73s\tremaining: 15.7s\n",
      "800:\tlearn: 0.1386094\ttotal: 8.82s\tremaining: 13.2s\n",
      "1000:\tlearn: 0.1352132\ttotal: 11s\tremaining: 11s\n",
      "1200:\tlearn: 0.1323855\ttotal: 13.3s\tremaining: 8.83s\n",
      "1400:\tlearn: 0.1299210\ttotal: 15.5s\tremaining: 6.61s\n",
      "1600:\tlearn: 0.1270749\ttotal: 17.5s\tremaining: 4.37s\n",
      "1800:\tlearn: 0.1255910\ttotal: 19.9s\tremaining: 2.2s\n",
      "1999:\tlearn: 0.1241879\ttotal: 22.1s\tremaining: 0us\n"
     ]
    }
   ],
   "source": [
    "model_cat = CatBoostRegressor(iterations=2000,learning_rate=0.10,depth=3,l2_leaf_reg=4,border_count=15,loss_function='RMSE',verbose=200)\n",
    "model_cat.fit(x_train,y_train)\n",
    "y_pred2 = model_cat.predict(x_test)\n",
    "y_pred2 = np.expm1(y_pred2)"
   ]
  },
  {
   "cell_type": "code",
   "execution_count": 58,
   "metadata": {},
   "outputs": [
    {
     "name": "stdout",
     "output_type": "stream",
     "text": [
      "5229639367.0695715\n",
      "0.3856762205458536\n"
     ]
    }
   ],
   "source": [
    "print(mean_squared_error(y_pred2,y_test))\n",
    "print(rmsle(y_test,y_pred2))"
   ]
  },
  {
   "cell_type": "code",
   "execution_count": 44,
   "metadata": {
    "scrolled": true
   },
   "outputs": [
    {
     "name": "stdout",
     "output_type": "stream",
     "text": [
      "5229639367.0695715\n",
      "0.3856762205458536\n"
     ]
    }
   ],
   "source": []
  },
  {
   "cell_type": "code",
   "execution_count": null,
   "metadata": {},
   "outputs": [],
   "source": []
  },
  {
   "cell_type": "code",
   "execution_count": null,
   "metadata": {},
   "outputs": [],
   "source": []
  }
 ],
 "metadata": {
  "kernelspec": {
   "display_name": "Python 3",
   "language": "python",
   "name": "python3"
  },
  "language_info": {
   "codemirror_mode": {
    "name": "ipython",
    "version": 3
   },
   "file_extension": ".py",
   "mimetype": "text/x-python",
   "name": "python",
   "nbconvert_exporter": "python",
   "pygments_lexer": "ipython3",
   "version": "3.6.5"
  }
 },
 "nbformat": 4,
 "nbformat_minor": 2
}
